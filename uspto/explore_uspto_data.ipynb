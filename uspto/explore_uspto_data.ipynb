{
 "cells": [
  {
   "cell_type": "markdown",
   "metadata": {},
   "source": [
    "# Brief walkthrough of the USPTO Open Data API Client\n",
    "\n",
    "**Version**: Dec 10 2020\n",
    "\n",
    "\n",
    "Reference: [USPTO Open Data API Client](https://docs.ip-tools.org/uspto-opendata-python/peds.html)\n",
    "\n",
    "The focus here is on using the Patent Examination Data System, or PEDS. (Note: This API client also has PAIR Bulk Data [PBD] access, but PBD has been decommissioned.)"
   ]
  },
  {
   "cell_type": "markdown",
   "metadata": {},
   "source": [
    "## Import the package and create a client"
   ]
  },
  {
   "cell_type": "code",
   "execution_count": 1,
   "metadata": {},
   "outputs": [],
   "source": [
    "from uspto.peds.client import UsptoPatentExaminationDataSystemClient\n",
    "client = UsptoPatentExaminationDataSystemClient()"
   ]
  },
  {
   "cell_type": "markdown",
   "metadata": {},
   "source": [
    "## Let's see what options the client's `download_document` function has. "
   ]
  },
  {
   "cell_type": "code",
   "execution_count": 2,
   "metadata": {},
   "outputs": [
    {
     "name": "stdout",
     "output_type": "stream",
     "text": [
      "Help on method download_document in module uspto.util.client:\n",
      "\n",
      "download_document(*args, **kwargs) method of uspto.peds.client.UsptoPatentExaminationDataSystemClient instance\n",
      "\n"
     ]
    }
   ],
   "source": [
    "help(client.download_document)"
   ]
  },
  {
   "cell_type": "markdown",
   "metadata": {},
   "source": [
    "## The `help()` function was not very helpful here. Let's try `help` on the client itself."
   ]
  },
  {
   "cell_type": "code",
   "execution_count": 3,
   "metadata": {},
   "outputs": [
    {
     "name": "stdout",
     "output_type": "stream",
     "text": [
      "Help on UsptoPatentExaminationDataSystemClient in module uspto.peds.client object:\n",
      "\n",
      "class UsptoPatentExaminationDataSystemClient(uspto.util.client.UsptoGenericBulkDataClient)\n",
      " |  Python client for accessing the USPTO Patent Examination Data System API (https://ped.uspto.gov/peds/).\n",
      " |  See also: https://ped.uspto.gov/peds/#/apiDocumentation\n",
      " |  \n",
      " |  Method resolution order:\n",
      " |      UsptoPatentExaminationDataSystemClient\n",
      " |      uspto.util.client.UsptoGenericBulkDataClient\n",
      " |      builtins.object\n",
      " |  \n",
      " |  Data and other attributes defined here:\n",
      " |  \n",
      " |  DATASOURCE_NAME = 'peds'\n",
      " |  \n",
      " |  PACKAGE_DOWNLOAD_URL = 'https://ped.uspto.gov/api/queries/{query_id}/d...\n",
      " |  \n",
      " |  PACKAGE_REQUEST_URL = 'https://ped.uspto.gov/api/queries/{query_id}/pa...\n",
      " |  \n",
      " |  PACKAGE_STATUS_URL = 'https://ped.uspto.gov/api/queries/{query_id}?for...\n",
      " |  \n",
      " |  QUERY_URL = 'https://ped.uspto.gov/api/queries'\n",
      " |  \n",
      " |  document_factory = <class 'uspto.peds.document.UsptoPatentExaminationD...\n",
      " |  \n",
      " |  \n",
      " |  ----------------------------------------------------------------------\n",
      " |  Methods inherited from uspto.util.client.UsptoGenericBulkDataClient:\n",
      " |  \n",
      " |  __init__(self)\n",
      " |      Initialize self.  See help(type(self)) for accurate signature.\n",
      " |  \n",
      " |  check_package_url(self, query_id, format)\n",
      " |  \n",
      " |  download(self, query_id, format=None, progressbar=False)\n",
      " |  \n",
      " |  download_document(self, *args, **kwargs)\n",
      " |  \n",
      " |  download_package(self, query_id, format, progressbar=False)\n",
      " |  \n",
      " |  package_status(self, query_id, format)\n",
      " |  \n",
      " |  query(self, expression, filter=None, sort=None, start=None, rows=None, default_field=None)\n",
      " |  \n",
      " |  query_application(self, applicationId)\n",
      " |  \n",
      " |  query_patent(self, patentNumber)\n",
      " |  \n",
      " |  query_publication(self, appEarlyPubNumber)\n",
      " |  \n",
      " |  request_package(self, query_id, format)\n",
      " |  \n",
      " |  search(self, *args, **kwargs)\n",
      " |  \n",
      " |  unzip_package(self, payload_zip)\n",
      " |  \n",
      " |  wait_for_package(self, query_id, format)\n",
      " |  \n",
      " |  ----------------------------------------------------------------------\n",
      " |  Data descriptors inherited from uspto.util.client.UsptoGenericBulkDataClient:\n",
      " |  \n",
      " |  __dict__\n",
      " |      dictionary for instance variables (if defined)\n",
      " |  \n",
      " |  __weakref__\n",
      " |      list of weak references to the object (if defined)\n",
      "\n"
     ]
    }
   ],
   "source": [
    "help(client)"
   ]
  },
  {
   "cell_type": "markdown",
   "metadata": {},
   "source": [
    "## The important methods seem to be inherited from the `UsptoGenericBulkDataClient` class. Let's check that one out."
   ]
  },
  {
   "cell_type": "code",
   "execution_count": 4,
   "metadata": {},
   "outputs": [
    {
     "name": "stdout",
     "output_type": "stream",
     "text": [
      "Help on UsptoGenericBulkDataClient in module uspto.util.client object:\n",
      "\n",
      "class UsptoGenericBulkDataClient(builtins.object)\n",
      " |  Methods defined here:\n",
      " |  \n",
      " |  __init__(self)\n",
      " |      Initialize self.  See help(type(self)) for accurate signature.\n",
      " |  \n",
      " |  check_package_url(self, query_id, format)\n",
      " |  \n",
      " |  download(self, query_id, format=None, progressbar=False)\n",
      " |  \n",
      " |  download_document(self, *args, **kwargs)\n",
      " |  \n",
      " |  download_package(self, query_id, format, progressbar=False)\n",
      " |  \n",
      " |  package_status(self, query_id, format)\n",
      " |  \n",
      " |  query(self, expression, filter=None, sort=None, start=None, rows=None, default_field=None)\n",
      " |  \n",
      " |  query_application(self, applicationId)\n",
      " |  \n",
      " |  query_patent(self, patentNumber)\n",
      " |  \n",
      " |  query_publication(self, appEarlyPubNumber)\n",
      " |  \n",
      " |  request_package(self, query_id, format)\n",
      " |  \n",
      " |  search(self, *args, **kwargs)\n",
      " |  \n",
      " |  unzip_package(self, payload_zip)\n",
      " |  \n",
      " |  wait_for_package(self, query_id, format)\n",
      " |  \n",
      " |  ----------------------------------------------------------------------\n",
      " |  Data descriptors defined here:\n",
      " |  \n",
      " |  __dict__\n",
      " |      dictionary for instance variables (if defined)\n",
      " |  \n",
      " |  __weakref__\n",
      " |      list of weak references to the object (if defined)\n",
      "\n"
     ]
    }
   ],
   "source": [
    "import uspto.pbd.client \n",
    "client2 = uspto.util.client.UsptoGenericBulkDataClient()\n",
    "help(client2)"
   ]
  },
  {
   "cell_type": "markdown",
   "metadata": {},
   "source": [
    "## That also wasn't very helpful. What I ended up doing was looking directly at the `download_document` code. \n",
    "\n",
    "For me, it was located in my conda environment at: \n",
    "`/home/vlim/local/miniconda3/envs/patents/lib/python3.6/site-packages/uspto/util/client.py`"
   ]
  },
  {
   "cell_type": "markdown",
   "metadata": {},
   "source": [
    "## Now let's get data for a specific U.S. patent application.\n",
    "\n",
    "We'll look up application number: 09/418,640. Be sure to remove all punctuation marks before using it in the function."
   ]
  },
  {
   "cell_type": "code",
   "execution_count": 5,
   "metadata": {},
   "outputs": [],
   "source": [
    "# get application info for 09/418,640\n",
    "result = client.download_document(type='application', number='09418640', format='json')"
   ]
  },
  {
   "cell_type": "markdown",
   "metadata": {},
   "source": [
    "## The resulting data is stored in a dictionary.\n",
    "\n",
    "This is true whether format is JSON or XML."
   ]
  },
  {
   "cell_type": "code",
   "execution_count": 6,
   "metadata": {},
   "outputs": [
    {
     "data": {
      "text/plain": [
       "dict"
      ]
     },
     "execution_count": 6,
     "metadata": {},
     "output_type": "execute_result"
    }
   ],
   "source": [
    "type(result)"
   ]
  },
  {
   "cell_type": "markdown",
   "metadata": {},
   "source": [
    "## Take a look at the data available in the result."
   ]
  },
  {
   "cell_type": "code",
   "execution_count": 7,
   "metadata": {
    "scrolled": false
   },
   "outputs": [
    {
     "data": {
      "text/plain": [
       "{'json': b'{ \"PatentData\" : [ {\"patentCaseMetadata\":{\"applicationNumberText\":{\"value\":\"09418640\",\"electronicText\":\"09418640\"},\"filingDate\":\"1999-10-15\",\"applicationTypeCategory\":\"Utility\",\"partyBag\":{\"applicantBagOrInventorBagOrOwnerBag\":[{\"primaryExaminerOrAssistantExaminerOrAuthorizedOfficer\":[{\"name\":{\"personNameOrOrganizationNameOrEntityName\":[{\"personFullName\":\"LACOURCIERE, KAREN A\"}]}}]},{\"inventorOrDeceasedInventor\":[{\"contactOrPublicationContact\":[{\"name\":{\"personNameOrOrganizationNameOrEntityName\":[{\"personStructuredName\":{\"firstName\":\"JENNIFER\",\"middleName\":\"K.\",\"lastName\":\"TAYLOR\"}}]},\"cityName\":\"SOLANA BEACH\",\"geographicRegionName\":{\"value\":\"CA\",\"geographicRegionCategory\":\"STATE\"},\"countryCode\":\"US\"}]},{\"contactOrPublicationContact\":[{\"name\":{\"personNameOrOrganizationNameOrEntityName\":[{\"personStructuredName\":{\"firstName\":\"LEX\",\"middleName\":\"M.\",\"lastName\":\"COWSERT\"}}]},\"cityName\":\"CARLSBAD\",\"geographicRegionName\":{\"value\":\"CA\",\"geographicRegionCategory\":\"STATE\"},\"countryCode\":\"US\"}]}]},{\"registeredPractitioner\":[{\"registeredPractitionerRegistrationNumber\":\"40812\",\"registeredPractitionerCategory\":\"ATTORNEY\",\"contactOrPublicationContact\":[{\"name\":{\"personNameOrOrganizationNameOrEntityName\":[{\"personStructuredName\":{\"firstName\":\"Sheryl\",\"middleName\":\"\",\"lastName\":\"Silverstein\",\"nameSuffix\":\"\"}}]},\"phoneNumberBag\":{\"phoneNumber\":[{\"value\":\"760-473-9472\"}]}}],\"sequenceNumber\":\"1\",\"activeIndicator\":true},{\"registeredPractitionerRegistrationNumber\":\"50869\",\"registeredPractitionerCategory\":\"ATTORNEY\",\"contactOrPublicationContact\":[{\"name\":{\"personNameOrOrganizationNameOrEntityName\":[{\"personStructuredName\":{\"firstName\":\"Julie\",\"middleName\":\"\",\"lastName\":\"Hopper\",\"nameSuffix\":\"\"}}]},\"phoneNumberBag\":{\"phoneNumber\":[{\"value\":\"760-603-2794\"}]}}],\"sequenceNumber\":\"2\",\"activeIndicator\":true},{\"registeredPractitionerRegistrationNumber\":\"54119\",\"registeredPractitionerCategory\":\"ATTORNEY\",\"contactOrPublicationContact\":[{\"name\":{\"personNameOrOrganizationNameOrEntityName\":[{\"personStructuredName\":{\"firstName\":\"Karin\",\"middleName\":\"\",\"lastName\":\"Gerstin\",\"nameSuffix\":\"\"}}]},\"phoneNumberBag\":{\"phoneNumber\":[{\"value\":\"858-350-2300\"}]}}],\"sequenceNumber\":\"3\",\"activeIndicator\":true},{\"registeredPractitionerRegistrationNumber\":\"52903\",\"registeredPractitionerCategory\":\"ATTORNEY\",\"contactOrPublicationContact\":[{\"name\":{\"personNameOrOrganizationNameOrEntityName\":[{\"personStructuredName\":{\"firstName\":\"Clifford\",\"middleName\":\"\",\"lastName\":\"Ford\",\"nameSuffix\":\"\"}}]},\"phoneNumberBag\":{\"phoneNumber\":[{\"value\":\"760-603-2784\"}]}}],\"sequenceNumber\":\"4\",\"activeIndicator\":true},{\"registeredPractitionerRegistrationNumber\":\"59407\",\"registeredPractitionerCategory\":\"ATTORNEY\",\"contactOrPublicationContact\":[{\"name\":{\"personNameOrOrganizationNameOrEntityName\":[{\"personStructuredName\":{\"firstName\":\"Jeffrey\",\"middleName\":\"\",\"lastName\":\"Tung\",\"nameSuffix\":\"\"}}]},\"phoneNumberBag\":{\"phoneNumber\":[{\"value\":\"760-931-9200\"}]}}],\"sequenceNumber\":\"5\",\"activeIndicator\":true},{\"registeredPractitionerRegistrationNumber\":\"71439\",\"registeredPractitionerCategory\":\"AGENT\",\"contactOrPublicationContact\":[{\"name\":{\"personNameOrOrganizationNameOrEntityName\":[{\"personStructuredName\":{\"firstName\":\"Roshni\",\"middleName\":\"\",\"lastName\":\"Chintalapati\",\"nameSuffix\":\"\"}}]},\"phoneNumberBag\":{\"phoneNumber\":[{\"value\":\"760-931-9200\"}]}}],\"sequenceNumber\":\"6\",\"activeIndicator\":true},{\"registeredPractitionerRegistrationNumber\":\"72921\",\"registeredPractitionerCategory\":\"AGENT\",\"contactOrPublicationContact\":[{\"name\":{\"personNameOrOrganizationNameOrEntityName\":[{\"personStructuredName\":{\"firstName\":\"Erin\",\"middleName\":\"\",\"lastName\":\"Soto\",\"nameSuffix\":\"\"}}]},\"phoneNumberBag\":{\"phoneNumber\":[{\"value\":\"858-350-2357\"}]}}],\"sequenceNumber\":\"7\",\"activeIndicator\":true},{\"registeredPractitionerRegistrationNumber\":\"76970\",\"registeredPractitionerCategory\":\"AGENT\",\"contactOrPublicationContact\":[{\"name\":{\"personNameOrOrganizationNameOrEntityName\":[{\"personStructuredName\":{\"firstName\":\"Theresa\",\"middleName\":\"\",\"lastName\":\"Sample\",\"nameSuffix\":\"\"}}]},\"phoneNumberBag\":{\"phoneNumber\":[{\"value\":\"760-603-2486\"}]}}],\"sequenceNumber\":\"8\",\"activeIndicator\":true}]},{\"partyIdentifierOrContact\":[{\"name\":{\"personNameOrOrganizationNameOrEntityName\":[{\"personStructuredName\":{\"lastName\":\"IONIS PHARMACEUTICALS INC\"}}]},\"postalAddressBag\":{\"postalAddress\":[{\"postalStructuredAddress\":{\"addressLineText\":[{\"value\":\"2855 Gazelle Court\"}],\"cityName\":\"CARLSBAD\",\"geographicRegionName\":[{\"value\":\"CA\"}],\"countryCode\":\"US\",\"postalCode\":\"92010\"}}]}},{\"value\":\"27180\"}]}]},\"groupArtUnitNumber\":{\"value\":\"1635\",\"electronicText\":\"1635\"},\"applicationConfirmationNumber\":\"9148\",\"applicantFileReference\":\"RTS-0102\",\"patentClassificationBag\":{\"cpcClassificationBagOrIPCClassificationOrECLAClassificationBag\":[{\"ipOfficeCode\":\"US\",\"mainNationalClassification\":{\"nationalClass\":\"435\",\"nationalSubclass\":\"375000\"}}]},\"businessEntityStatusCategory\":\"SMALL\",\"firstInventorToFileIndicator\":\"false\",\"inventionTitle\":{\"content\":[\"ANTISENSE INHIBITION OF BCL-6 EXPRESSION\"]},\"applicationStatusCategory\":\"Patented Case\",\"applicationStatusDate\":\"2000-10-12\",\"officialFileLocationCategory\":\"FILE REPOSITORY (FRANCONIA)\",\"officialFileLocationDate\":\"2018-06-22\",\"patentGrantIdentification\":{\"patentNumber\":\"6140125\",\"grantDate\":\"2000-10-31\"},\"relatedDocumentData\":{\"parentDocumentDataOrChildDocumentData\":[{\"descriptionText\":\"which is - claims the benefit of 09418640\",\"applicationNumberText\":\"PCT/US00/27963\",\"filingDate\":\"2000-10-11\",\"childDocumentStatusCode\":\"-\",\"patentNumber\":\"\"}]}},\"prosecutionHistoryDataBag\":{\"prosecutionHistoryData\":[{\"eventDate\":\"2008-03-25\",\"eventCode\":\"SMAL\",\"eventDescriptionText\":\"Applicant Has Filed a Verified Statement of Small Entity Status in Compliance with 37 CFR 1.27\"},{\"eventDate\":\"2005-11-07\",\"eventCode\":\"C.AD\",\"eventDescriptionText\":\"Correspondence Address Change\"},{\"eventDate\":\"2005-11-08\",\"eventCode\":\"PA..\",\"eventDescriptionText\":\"Change in Power of Attorney (May Include Associate POA)\"},{\"eventDate\":\"2004-04-09\",\"eventCode\":\"BIG.\",\"eventDescriptionText\":\"ENTITY STATUS SET TO UNDISCOUNTED (INITIAL DEFAULT SETTING OR STATUS CHANGE)\"},{\"eventDate\":\"2002-02-03\",\"eventCode\":\"N423\",\"eventDescriptionText\":\"Post Issue Communication - Certificate of Correction\"},{\"eventDate\":\"2000-07-13\",\"eventCode\":\"SENT\",\"eventDescriptionText\":\"Workflow - File Sent to Contractor\"},{\"eventDate\":\"2000-11-03\",\"eventCode\":\"CRFA\",\"eventDescriptionText\":\"Sequence Moved to Public Database\"},{\"eventDate\":\"2000-10-31\",\"eventCode\":\"PGM/\",\"eventDescriptionText\":\"Recordation of Patent Grant Mailed\"},{\"eventDate\":\"2000-10-12\",\"eventCode\":\"WPIR\",\"eventDescriptionText\":\"Issue Notification Mailed\"},{\"eventDate\":\"2000-07-07\",\"eventCode\":\"N084\",\"eventDescriptionText\":\"Issue Fee Payment Verified\"},{\"eventDate\":\"2000-08-20\",\"eventCode\":\"PILS\",\"eventDescriptionText\":\"Application Is Considered Ready for Issue\"},{\"eventDate\":\"2000-07-19\",\"eventCode\":\"CRFT\",\"eventDescriptionText\":\"Sequence Forwarded to Pubs on Tape\"},{\"eventDate\":\"2000-05-08\",\"eventCode\":\"MN/=.\",\"eventDescriptionText\":\"Mail Notice of Allowance\"},{\"eventDate\":\"2000-05-08\",\"eventCode\":\"N/=.\",\"eventDescriptionText\":\"Notice of Allowance Data Verification Completed\"},{\"eventDate\":\"2000-05-02\",\"eventCode\":\"EXIN\",\"eventDescriptionText\":\"Interview Summary Record\"},{\"eventDate\":\"2000-04-25\",\"eventCode\":\"FWDX\",\"eventDescriptionText\":\"Date Forwarded to Examiner\"},{\"eventDate\":\"2000-04-14\",\"eventCode\":\"A...\",\"eventDescriptionText\":\"Response after Non-Final Action\"},{\"eventDate\":\"2000-01-21\",\"eventCode\":\"MCTNF\",\"eventDescriptionText\":\"Mail Non-Final Rejection\"},{\"eventDate\":\"2000-01-18\",\"eventCode\":\"CTNF\",\"eventDescriptionText\":\"Non-Final Rejection\"},{\"eventDate\":\"1999-10-15\",\"eventCode\":\"M844\",\"eventDescriptionText\":\"Information Disclosure Statement (IDS) Filed\"},{\"eventDate\":\"1999-10-15\",\"eventCode\":\"WIDS\",\"eventDescriptionText\":\"Information Disclosure Statement (IDS) Filed\"},{\"eventDate\":\"1999-11-17\",\"eventCode\":\"DOCK\",\"eventDescriptionText\":\"Case Docketed to Examiner in GAU\"},{\"eventDate\":\"1999-11-12\",\"eventCode\":\"OIPE\",\"eventDescriptionText\":\"Application Dispatched from OIPE\"},{\"eventDate\":\"1999-11-04\",\"eventCode\":\"SCAN\",\"eventDescriptionText\":\"IFW Scan & PACR Auto Security Review\"},{\"eventDate\":\"1999-10-29\",\"eventCode\":\"CRFE\",\"eventDescriptionText\":\"CRF Is Good Technically / Entered into Database\"},{\"eventDate\":\"1999-10-21\",\"eventCode\":\"CRFL\",\"eventDescriptionText\":\"CRF Disk Has Been Received by Preexam / Group / PCT\"},{\"eventDate\":\"1999-10-21\",\"eventCode\":\"IEXX\",\"eventDescriptionText\":\"Initial Exam Team nn\"}]},\"assignmentDataBag\":{\"assignmentData\":[{\"reelNumber\":\"10331\",\"frameNumber\":\"639\",\"documentReceivedDate\":\"1999-10-28\",\"recordedDate\":\"1999-10-15\",\"mailDate\":\"2000-01-21\",\"pageTotalQuantity\":4,\"conveyanceText\":\"ASSIGNMENT OF ASSIGNORS INTEREST (SEE DOCUMENT FOR DETAILS).\",\"assignorBag\":{\"assignor\":[{\"executionDate\":\"1999-10-14\",\"contactOrPublicationContact\":[{\"name\":{\"personNameOrOrganizationNameOrEntityName\":[{\"value\":\"TAYLOR, JENNIFER K.\"}]}}]},{\"executionDate\":\"1999-10-14\",\"contactOrPublicationContact\":[{\"name\":{\"personNameOrOrganizationNameOrEntityName\":[{\"value\":\"COWSERT, LEX M.\"}]}}]}]},\"assigneeBag\":{\"assignee\":[{\"contactOrPublicationContact\":[{\"name\":{\"personNameOrOrganizationNameOrEntityName\":[{\"value\":\"ISIS PHARMACEUTICALS, INC.\"}]},\"postalAddressBag\":{\"postalAddress\":[{\"postalAddressText\":[{\"sequenceNumber\":\"1\",\"value\":\"2922 FARADAY AVE\"},{\"sequenceNumber\":\"2\",\"value\":\"CARLSBAD CALIFORNIA 92008\"}]}]}}]}]},\"correspondenceAddress\":{\"partyIdentifierOrContact\":[{\"name\":{\"personNameOrOrganizationNameOrEntityName\":[{\"value\":\"JANE MASSEY LICATA\"}]},\"postalAddressBag\":{\"postalAddress\":[{\"postalAddressText\":[{\"sequenceNumber\":\"1\",\"value\":\"LAW OFFICES OF JANE MASSEY LICATA\"},{\"sequenceNumber\":\"2\",\"value\":\"66 EAST MAIN STREET\"},{\"sequenceNumber\":\"3\",\"value\":\"MARLTON, NJ 08053\"}]}]}}]},\"sequenceNumber\":\"1\"},{\"reelNumber\":\"43358\",\"frameNumber\":\"831\",\"documentReceivedDate\":\"2017-07-26\",\"recordedDate\":\"2017-07-26\",\"mailDate\":\"2017-08-23\",\"pageTotalQuantity\":4,\"conveyanceText\":\"CHANGE OF NAME (SEE DOCUMENT FOR DETAILS).\",\"assignorBag\":{\"assignor\":[{\"executionDate\":\"2015-12-18\",\"contactOrPublicationContact\":[{\"name\":{\"personNameOrOrganizationNameOrEntityName\":[{\"value\":\"ISIS PHARMACEUTICALS, INC.\"}]}}]}]},\"assigneeBag\":{\"assignee\":[{\"contactOrPublicationContact\":[{\"name\":{\"personNameOrOrganizationNameOrEntityName\":[{\"value\":\"IONIS PHARMACEUTICALS, INC.\"}]},\"postalAddressBag\":{\"postalAddress\":[{\"postalAddressText\":[{\"sequenceNumber\":\"1\",\"value\":\"2855 GAZELLE COURT\"},{\"sequenceNumber\":\"2\",\"value\":\"CARLSBAD CALIFORNIA 92010\"}]}]}}]}]},\"correspondenceAddress\":{\"partyIdentifierOrContact\":[{\"name\":{\"personNameOrOrganizationNameOrEntityName\":[{\"value\":\"IONIS PHARMACEUTICALS, INC.\"}]},\"postalAddressBag\":{\"postalAddress\":[{\"postalAddressText\":[{\"sequenceNumber\":\"1\",\"value\":\"2855 GAZELLE COURT\"},{\"sequenceNumber\":\"2\",\"value\":\"CARLSBAD, CA 92010\"}]}]}}]},\"sequenceNumber\":\"1\"}],\"assignmentTotalQuantity\":2},\"st96Version\":\"V3_1\",\"ipoVersion\":\"US_V8_0\"}\\n] }'}"
      ]
     },
     "execution_count": 7,
     "metadata": {},
     "output_type": "execute_result"
    }
   ],
   "source": [
    "result"
   ]
  },
  {
   "cell_type": "markdown",
   "metadata": {},
   "source": [
    "## For fun, let's also look at the XML data. It's less pretty than JSON."
   ]
  },
  {
   "cell_type": "code",
   "execution_count": 8,
   "metadata": {
    "scrolled": false
   },
   "outputs": [
    {
     "data": {
      "text/plain": [
       "{'xml': b'<?xml version=\"1.0\" encoding=\"UTF-8\" ?>\\n<uspat:PatentBulkData xsi:schemaLocation=\"urn:us:gov:doc:uspto:patent ../../main/resources/Schema/USPatent/Document/PatentData_V8_0.xsd\" xmlns:pat=\"http://www.wipo.int/standards/XMLSchema/ST96/Patent\" xmlns:uscom=\"urn:us:gov:doc:uspto:common\" xmlns:uspat=\"urn:us:gov:doc:uspto:patent\" xmlns:com=\"http://www.wipo.int/standards/XMLSchema/ST96/Common\" xmlns:xsi=\"http://www.w3.org/2001/XMLSchema-instance\" com:st96Version=\"V3_1\" com:ipoVersion=\"US_V8_0\"><uspat:PatentData com:st96Version=\"V3_1\" com:ipoVersion=\"US_V8_0\" xsi:schemaLocation=\"urn:us:gov:doc:uspto:patent ../../main/resources/Schema/USPatent/Document/PatentBulkData_V8_0.xsd\" xmlns:uspat=\"urn:us:gov:doc:uspto:patent\" xmlns:tbl=\"http://www.oasis-open.org/tables/exchange/1.0\" xmlns:pat=\"http://www.wipo.int/standards/XMLSchema/ST96/Patent\" xmlns:uscom=\"urn:us:gov:doc:uspto:common\" xmlns:m=\"http://www.w3.org/1998/Math/MathML\" xmlns:com=\"http://www.wipo.int/standards/XMLSchema/ST96/Common\" xmlns:xsi=\"http://www.w3.org/2001/XMLSchema-instance\">\\n    <uspat:PatentCaseMetadata>\\n        <uscom:ApplicationNumberText uscom:electronicText=\"09418640\">09418640</uscom:ApplicationNumberText>\\n        <pat:FilingDate>1999-10-15</pat:FilingDate>\\n        <uscom:ApplicationTypeCategory>Utility</uscom:ApplicationTypeCategory>\\n        <uspat:PartyBag>\\n            <pat:ExaminerBag>\\n                <pat:PrimaryExaminer>\\n                    <com:Name>\\n                        <com:PersonName>\\n                            <com:PersonFullName>LACOURCIERE, KAREN A</com:PersonFullName>\\n                        </com:PersonName>\\n                    </com:Name>\\n                </pat:PrimaryExaminer>\\n            </pat:ExaminerBag>\\n            <pat:InventorBag>\\n                <pat:Inventor>\\n                    <com:PublicationContact>\\n                        <com:Name>\\n                            <com:PersonName>\\n                                <com:PersonStructuredName>\\n                                    <com:FirstName>JENNIFER</com:FirstName>\\n                                    <com:MiddleName>K.</com:MiddleName>\\n                                    <com:LastName>TAYLOR</com:LastName>\\n                                </com:PersonStructuredName>\\n                            </com:PersonName>\\n                        </com:Name>\\n                        <com:CityName>SOLANA BEACH</com:CityName>\\n                        <com:GeographicRegionName com:geographicRegionCategory=\"State\">CA</com:GeographicRegionName>\\n                        <com:CountryCode>US</com:CountryCode>\\n                    </com:PublicationContact>\\n                </pat:Inventor>\\n                <pat:Inventor>\\n                    <com:PublicationContact>\\n                        <com:Name>\\n                            <com:PersonName>\\n                                <com:PersonStructuredName>\\n                                    <com:FirstName>LEX</com:FirstName>\\n                                    <com:MiddleName>M.</com:MiddleName>\\n                                    <com:LastName>COWSERT</com:LastName>\\n                                </com:PersonStructuredName>\\n                            </com:PersonName>\\n                        </com:Name>\\n                        <com:CityName>CARLSBAD</com:CityName>\\n                        <com:GeographicRegionName com:geographicRegionCategory=\"State\">CA</com:GeographicRegionName>\\n                        <com:CountryCode>US</com:CountryCode>\\n                    </com:PublicationContact>\\n                </pat:Inventor>\\n            </pat:InventorBag>\\n            <uspat:RegisteredPractitionerBag>\\n                <uspat:RegisteredPractitioner com:sequenceNumber=\"1\" uscom:activeIndicator=\"true\">\\n                    <pat:RegisteredPractitionerRegistrationNumber>40812</pat:RegisteredPractitionerRegistrationNumber>\\n                    <uspat:RegisteredPractitionerCategory>Attorney</uspat:RegisteredPractitionerCategory>\\n                    <com:Contact>\\n                        <com:Name>\\n                            <com:PersonName>\\n                                <com:PersonStructuredName>\\n                                    <com:FirstName>Sheryl</com:FirstName>\\n                                    <com:MiddleName></com:MiddleName>\\n                                    <com:LastName>Silverstein</com:LastName>\\n                                    <com:NameSuffix></com:NameSuffix>\\n                                </com:PersonStructuredName>\\n                            </com:PersonName>\\n                        </com:Name>\\n                        <com:PhoneNumberBag>\\n                            <com:PhoneNumber>760-473-9472</com:PhoneNumber>\\n                        </com:PhoneNumberBag>\\n                    </com:Contact>\\n                </uspat:RegisteredPractitioner>\\n                <uspat:RegisteredPractitioner com:sequenceNumber=\"2\" uscom:activeIndicator=\"true\">\\n                    <pat:RegisteredPractitionerRegistrationNumber>50869</pat:RegisteredPractitionerRegistrationNumber>\\n                    <uspat:RegisteredPractitionerCategory>Attorney</uspat:RegisteredPractitionerCategory>\\n                    <com:Contact>\\n                        <com:Name>\\n                            <com:PersonName>\\n                                <com:PersonStructuredName>\\n                                    <com:FirstName>Julie</com:FirstName>\\n                                    <com:MiddleName></com:MiddleName>\\n                                    <com:LastName>Hopper</com:LastName>\\n                                    <com:NameSuffix></com:NameSuffix>\\n                                </com:PersonStructuredName>\\n                            </com:PersonName>\\n                        </com:Name>\\n                        <com:PhoneNumberBag>\\n                            <com:PhoneNumber>760-603-2794</com:PhoneNumber>\\n                        </com:PhoneNumberBag>\\n                    </com:Contact>\\n                </uspat:RegisteredPractitioner>\\n                <uspat:RegisteredPractitioner com:sequenceNumber=\"3\" uscom:activeIndicator=\"true\">\\n                    <pat:RegisteredPractitionerRegistrationNumber>54119</pat:RegisteredPractitionerRegistrationNumber>\\n                    <uspat:RegisteredPractitionerCategory>Attorney</uspat:RegisteredPractitionerCategory>\\n                    <com:Contact>\\n                        <com:Name>\\n                            <com:PersonName>\\n                                <com:PersonStructuredName>\\n                                    <com:FirstName>Karin</com:FirstName>\\n                                    <com:MiddleName></com:MiddleName>\\n                                    <com:LastName>Gerstin</com:LastName>\\n                                    <com:NameSuffix></com:NameSuffix>\\n                                </com:PersonStructuredName>\\n                            </com:PersonName>\\n                        </com:Name>\\n                        <com:PhoneNumberBag>\\n                            <com:PhoneNumber>858-350-2300</com:PhoneNumber>\\n                        </com:PhoneNumberBag>\\n                    </com:Contact>\\n                </uspat:RegisteredPractitioner>\\n                <uspat:RegisteredPractitioner com:sequenceNumber=\"4\" uscom:activeIndicator=\"true\">\\n                    <pat:RegisteredPractitionerRegistrationNumber>52903</pat:RegisteredPractitionerRegistrationNumber>\\n                    <uspat:RegisteredPractitionerCategory>Attorney</uspat:RegisteredPractitionerCategory>\\n                    <com:Contact>\\n                        <com:Name>\\n                            <com:PersonName>\\n                                <com:PersonStructuredName>\\n                                    <com:FirstName>Clifford</com:FirstName>\\n                                    <com:MiddleName></com:MiddleName>\\n                                    <com:LastName>Ford</com:LastName>\\n                                    <com:NameSuffix></com:NameSuffix>\\n                                </com:PersonStructuredName>\\n                            </com:PersonName>\\n                        </com:Name>\\n                        <com:PhoneNumberBag>\\n                            <com:PhoneNumber>760-603-2784</com:PhoneNumber>\\n                        </com:PhoneNumberBag>\\n                    </com:Contact>\\n                </uspat:RegisteredPractitioner>\\n                <uspat:RegisteredPractitioner com:sequenceNumber=\"5\" uscom:activeIndicator=\"true\">\\n                    <pat:RegisteredPractitionerRegistrationNumber>59407</pat:RegisteredPractitionerRegistrationNumber>\\n                    <uspat:RegisteredPractitionerCategory>Attorney</uspat:RegisteredPractitionerCategory>\\n                    <com:Contact>\\n                        <com:Name>\\n                            <com:PersonName>\\n                                <com:PersonStructuredName>\\n                                    <com:FirstName>Jeffrey</com:FirstName>\\n                                    <com:MiddleName></com:MiddleName>\\n                                    <com:LastName>Tung</com:LastName>\\n                                    <com:NameSuffix></com:NameSuffix>\\n                                </com:PersonStructuredName>\\n                            </com:PersonName>\\n                        </com:Name>\\n                        <com:PhoneNumberBag>\\n                            <com:PhoneNumber>760-931-9200</com:PhoneNumber>\\n                        </com:PhoneNumberBag>\\n                    </com:Contact>\\n                </uspat:RegisteredPractitioner>\\n                <uspat:RegisteredPractitioner com:sequenceNumber=\"6\" uscom:activeIndicator=\"true\">\\n                    <pat:RegisteredPractitionerRegistrationNumber>71439</pat:RegisteredPractitionerRegistrationNumber>\\n                    <uspat:RegisteredPractitionerCategory>Agent</uspat:RegisteredPractitionerCategory>\\n                    <com:Contact>\\n                        <com:Name>\\n                            <com:PersonName>\\n                                <com:PersonStructuredName>\\n                                    <com:FirstName>Roshni</com:FirstName>\\n                                    <com:MiddleName></com:MiddleName>\\n                                    <com:LastName>Chintalapati</com:LastName>\\n                                    <com:NameSuffix></com:NameSuffix>\\n                                </com:PersonStructuredName>\\n                            </com:PersonName>\\n                        </com:Name>\\n                        <com:PhoneNumberBag>\\n                            <com:PhoneNumber>760-931-9200</com:PhoneNumber>\\n                        </com:PhoneNumberBag>\\n                    </com:Contact>\\n                </uspat:RegisteredPractitioner>\\n                <uspat:RegisteredPractitioner com:sequenceNumber=\"7\" uscom:activeIndicator=\"true\">\\n                    <pat:RegisteredPractitionerRegistrationNumber>72921</pat:RegisteredPractitionerRegistrationNumber>\\n                    <uspat:RegisteredPractitionerCategory>Agent</uspat:RegisteredPractitionerCategory>\\n                    <com:Contact>\\n                        <com:Name>\\n                            <com:PersonName>\\n                                <com:PersonStructuredName>\\n                                    <com:FirstName>Erin</com:FirstName>\\n                                    <com:MiddleName></com:MiddleName>\\n                                    <com:LastName>Soto</com:LastName>\\n                                    <com:NameSuffix></com:NameSuffix>\\n                                </com:PersonStructuredName>\\n                            </com:PersonName>\\n                        </com:Name>\\n                        <com:PhoneNumberBag>\\n                            <com:PhoneNumber>858-350-2357</com:PhoneNumber>\\n                        </com:PhoneNumberBag>\\n                    </com:Contact>\\n                </uspat:RegisteredPractitioner>\\n                <uspat:RegisteredPractitioner com:sequenceNumber=\"8\" uscom:activeIndicator=\"true\">\\n                    <pat:RegisteredPractitionerRegistrationNumber>76970</pat:RegisteredPractitionerRegistrationNumber>\\n                    <uspat:RegisteredPractitionerCategory>Agent</uspat:RegisteredPractitionerCategory>\\n                    <com:Contact>\\n                        <com:Name>\\n                            <com:PersonName>\\n                                <com:PersonStructuredName>\\n                                    <com:FirstName>Theresa</com:FirstName>\\n                                    <com:MiddleName></com:MiddleName>\\n                                    <com:LastName>Sample</com:LastName>\\n                                    <com:NameSuffix></com:NameSuffix>\\n                                </com:PersonStructuredName>\\n                            </com:PersonName>\\n                        </com:Name>\\n                        <com:PhoneNumberBag>\\n                            <com:PhoneNumber>760-603-2486</com:PhoneNumber>\\n                        </com:PhoneNumberBag>\\n                    </com:Contact>\\n                </uspat:RegisteredPractitioner>\\n            </uspat:RegisteredPractitionerBag>\\n            <com:CorrespondenceAddress>\\n                <com:Contact>\\n                    <com:Name>\\n                        <com:PersonName>\\n                            <com:PersonStructuredName>\\n                                <com:LastName>IONIS PHARMACEUTICALS INC</com:LastName>\\n                            </com:PersonStructuredName>\\n                        </com:PersonName>\\n                    </com:Name>\\n                    <com:PostalAddressBag>\\n                        <com:PostalAddress>\\n                            <com:PostalStructuredAddress>\\n                                <com:AddressLineText>2855 Gazelle Court</com:AddressLineText>\\n                                <com:CityName>CARLSBAD</com:CityName>\\n                                <com:GeographicRegionName>CA</com:GeographicRegionName>\\n                                <com:CountryCode>US</com:CountryCode>\\n                                <com:PostalCode>92010</com:PostalCode>\\n                            </com:PostalStructuredAddress>\\n                        </com:PostalAddress>\\n                    </com:PostalAddressBag>\\n                </com:Contact>\\n                <com:PartyIdentifier>27180</com:PartyIdentifier>\\n            </com:CorrespondenceAddress>\\n        </uspat:PartyBag>\\n        <uscom:GroupArtUnitNumber uscom:electronicText=\"1635\">1635</uscom:GroupArtUnitNumber>\\n        <uspat:ApplicationConfirmationNumber>9148</uspat:ApplicationConfirmationNumber>\\n        <com:ApplicantFileReference>RTS-0102</com:ApplicantFileReference>\\n        <pat:PatentClassificationBag>\\n            <pat:NationalClassification>\\n                <com:IPOfficeCode>US</com:IPOfficeCode>\\n                <pat:MainNationalClassification>\\n                    <pat:NationalClass>435</pat:NationalClass>\\n                    <pat:NationalSubclass>375000</pat:NationalSubclass>\\n                </pat:MainNationalClassification>\\n            </pat:NationalClassification>\\n        </pat:PatentClassificationBag>\\n        <uscom:BusinessEntityStatusCategory>SMALL</uscom:BusinessEntityStatusCategory>\\n        <uspat:FirstInventorToFileIndicator>false</uspat:FirstInventorToFileIndicator>\\n        <pat:InventionTitle>ANTISENSE INHIBITION OF BCL-6 EXPRESSION</pat:InventionTitle>\\n        <uscom:ApplicationStatusCategory>Patented Case</uscom:ApplicationStatusCategory>\\n        <uscom:ApplicationStatusDate>2000-10-12</uscom:ApplicationStatusDate>\\n        <uscom:OfficialFileLocationCategory>FILE REPOSITORY (FRANCONIA)</uscom:OfficialFileLocationCategory>\\n        <uscom:OfficialFileLocationDate>2018-06-22</uscom:OfficialFileLocationDate>\\n        <uspat:PatentGrantIdentification>\\n            <pat:PatentNumber>6140125</pat:PatentNumber>\\n            <pat:GrantDate>2000-10-31</pat:GrantDate>\\n        </uspat:PatentGrantIdentification>\\n        <uspat:RelatedDocumentData>\\n            <uspat:ChildDocumentData>\\n                <uscom:DescriptionText>which is - claims the benefit of 09418640</uscom:DescriptionText>\\n                <com:ApplicationNumberText>PCT/US00/27963</com:ApplicationNumberText>\\n                <pat:FilingDate>2000-10-11</pat:FilingDate>\\n                <uspat:ChildDocumentStatusCode>-</uspat:ChildDocumentStatusCode>\\n                <pat:PatentNumber></pat:PatentNumber>\\n            </uspat:ChildDocumentData>\\n        </uspat:RelatedDocumentData>\\n    </uspat:PatentCaseMetadata>\\n    <uspat:ProsecutionHistoryDataBag>\\n        <uspat:ProsecutionHistoryData>\\n            <uspat:EventDate>2008-03-25</uspat:EventDate>\\n            <uspat:EventCode>SMAL</uspat:EventCode>\\n            <uspat:EventDescriptionText>Applicant Has Filed a Verified Statement of Small Entity Status in Compliance with 37 CFR 1.27</uspat:EventDescriptionText>\\n        </uspat:ProsecutionHistoryData>\\n        <uspat:ProsecutionHistoryData>\\n            <uspat:EventDate>2005-11-07</uspat:EventDate>\\n            <uspat:EventCode>C.AD</uspat:EventCode>\\n            <uspat:EventDescriptionText>Correspondence Address Change</uspat:EventDescriptionText>\\n        </uspat:ProsecutionHistoryData>\\n        <uspat:ProsecutionHistoryData>\\n            <uspat:EventDate>2005-11-08</uspat:EventDate>\\n            <uspat:EventCode>PA..</uspat:EventCode>\\n            <uspat:EventDescriptionText>Change in Power of Attorney (May Include Associate POA)</uspat:EventDescriptionText>\\n        </uspat:ProsecutionHistoryData>\\n        <uspat:ProsecutionHistoryData>\\n            <uspat:EventDate>2004-04-09</uspat:EventDate>\\n            <uspat:EventCode>BIG.</uspat:EventCode>\\n            <uspat:EventDescriptionText>ENTITY STATUS SET TO UNDISCOUNTED (INITIAL DEFAULT SETTING OR STATUS CHANGE)</uspat:EventDescriptionText>\\n        </uspat:ProsecutionHistoryData>\\n        <uspat:ProsecutionHistoryData>\\n            <uspat:EventDate>2002-02-03</uspat:EventDate>\\n            <uspat:EventCode>N423</uspat:EventCode>\\n            <uspat:EventDescriptionText>Post Issue Communication - Certificate of Correction</uspat:EventDescriptionText>\\n        </uspat:ProsecutionHistoryData>\\n        <uspat:ProsecutionHistoryData>\\n            <uspat:EventDate>2000-07-13</uspat:EventDate>\\n            <uspat:EventCode>SENT</uspat:EventCode>\\n            <uspat:EventDescriptionText>Workflow - File Sent to Contractor</uspat:EventDescriptionText>\\n        </uspat:ProsecutionHistoryData>\\n        <uspat:ProsecutionHistoryData>\\n            <uspat:EventDate>2000-11-03</uspat:EventDate>\\n            <uspat:EventCode>CRFA</uspat:EventCode>\\n            <uspat:EventDescriptionText>Sequence Moved to Public Database</uspat:EventDescriptionText>\\n        </uspat:ProsecutionHistoryData>\\n        <uspat:ProsecutionHistoryData>\\n            <uspat:EventDate>2000-10-31</uspat:EventDate>\\n            <uspat:EventCode>PGM/</uspat:EventCode>\\n            <uspat:EventDescriptionText>Recordation of Patent Grant Mailed</uspat:EventDescriptionText>\\n        </uspat:ProsecutionHistoryData>\\n        <uspat:ProsecutionHistoryData>\\n            <uspat:EventDate>2000-10-12</uspat:EventDate>\\n            <uspat:EventCode>WPIR</uspat:EventCode>\\n            <uspat:EventDescriptionText>Issue Notification Mailed</uspat:EventDescriptionText>\\n        </uspat:ProsecutionHistoryData>\\n        <uspat:ProsecutionHistoryData>\\n            <uspat:EventDate>2000-07-07</uspat:EventDate>\\n            <uspat:EventCode>N084</uspat:EventCode>\\n            <uspat:EventDescriptionText>Issue Fee Payment Verified</uspat:EventDescriptionText>\\n        </uspat:ProsecutionHistoryData>\\n        <uspat:ProsecutionHistoryData>\\n            <uspat:EventDate>2000-08-20</uspat:EventDate>\\n            <uspat:EventCode>PILS</uspat:EventCode>\\n            <uspat:EventDescriptionText>Application Is Considered Ready for Issue</uspat:EventDescriptionText>\\n        </uspat:ProsecutionHistoryData>\\n        <uspat:ProsecutionHistoryData>\\n            <uspat:EventDate>2000-07-19</uspat:EventDate>\\n            <uspat:EventCode>CRFT</uspat:EventCode>\\n            <uspat:EventDescriptionText>Sequence Forwarded to Pubs on Tape</uspat:EventDescriptionText>\\n        </uspat:ProsecutionHistoryData>\\n        <uspat:ProsecutionHistoryData>\\n            <uspat:EventDate>2000-05-08</uspat:EventDate>\\n            <uspat:EventCode>MN/=.</uspat:EventCode>\\n            <uspat:EventDescriptionText>Mail Notice of Allowance</uspat:EventDescriptionText>\\n        </uspat:ProsecutionHistoryData>\\n        <uspat:ProsecutionHistoryData>\\n            <uspat:EventDate>2000-05-08</uspat:EventDate>\\n            <uspat:EventCode>N/=.</uspat:EventCode>\\n            <uspat:EventDescriptionText>Notice of Allowance Data Verification Completed</uspat:EventDescriptionText>\\n        </uspat:ProsecutionHistoryData>\\n        <uspat:ProsecutionHistoryData>\\n            <uspat:EventDate>2000-05-02</uspat:EventDate>\\n            <uspat:EventCode>EXIN</uspat:EventCode>\\n            <uspat:EventDescriptionText>Interview Summary Record</uspat:EventDescriptionText>\\n        </uspat:ProsecutionHistoryData>\\n        <uspat:ProsecutionHistoryData>\\n            <uspat:EventDate>2000-04-25</uspat:EventDate>\\n            <uspat:EventCode>FWDX</uspat:EventCode>\\n            <uspat:EventDescriptionText>Date Forwarded to Examiner</uspat:EventDescriptionText>\\n        </uspat:ProsecutionHistoryData>\\n        <uspat:ProsecutionHistoryData>\\n            <uspat:EventDate>2000-04-14</uspat:EventDate>\\n            <uspat:EventCode>A...</uspat:EventCode>\\n            <uspat:EventDescriptionText>Response after Non-Final Action</uspat:EventDescriptionText>\\n        </uspat:ProsecutionHistoryData>\\n        <uspat:ProsecutionHistoryData>\\n            <uspat:EventDate>2000-01-21</uspat:EventDate>\\n            <uspat:EventCode>MCTNF</uspat:EventCode>\\n            <uspat:EventDescriptionText>Mail Non-Final Rejection</uspat:EventDescriptionText>\\n        </uspat:ProsecutionHistoryData>\\n        <uspat:ProsecutionHistoryData>\\n            <uspat:EventDate>2000-01-18</uspat:EventDate>\\n            <uspat:EventCode>CTNF</uspat:EventCode>\\n            <uspat:EventDescriptionText>Non-Final Rejection</uspat:EventDescriptionText>\\n        </uspat:ProsecutionHistoryData>\\n        <uspat:ProsecutionHistoryData>\\n            <uspat:EventDate>1999-10-15</uspat:EventDate>\\n            <uspat:EventCode>M844</uspat:EventCode>\\n            <uspat:EventDescriptionText>Information Disclosure Statement (IDS) Filed</uspat:EventDescriptionText>\\n        </uspat:ProsecutionHistoryData>\\n        <uspat:ProsecutionHistoryData>\\n            <uspat:EventDate>1999-10-15</uspat:EventDate>\\n            <uspat:EventCode>WIDS</uspat:EventCode>\\n            <uspat:EventDescriptionText>Information Disclosure Statement (IDS) Filed</uspat:EventDescriptionText>\\n        </uspat:ProsecutionHistoryData>\\n        <uspat:ProsecutionHistoryData>\\n            <uspat:EventDate>1999-11-17</uspat:EventDate>\\n            <uspat:EventCode>DOCK</uspat:EventCode>\\n            <uspat:EventDescriptionText>Case Docketed to Examiner in GAU</uspat:EventDescriptionText>\\n        </uspat:ProsecutionHistoryData>\\n        <uspat:ProsecutionHistoryData>\\n            <uspat:EventDate>1999-11-12</uspat:EventDate>\\n            <uspat:EventCode>OIPE</uspat:EventCode>\\n            <uspat:EventDescriptionText>Application Dispatched from OIPE</uspat:EventDescriptionText>\\n        </uspat:ProsecutionHistoryData>\\n        <uspat:ProsecutionHistoryData>\\n            <uspat:EventDate>1999-11-04</uspat:EventDate>\\n            <uspat:EventCode>SCAN</uspat:EventCode>\\n            <uspat:EventDescriptionText>IFW Scan &amp; PACR Auto Security Review</uspat:EventDescriptionText>\\n        </uspat:ProsecutionHistoryData>\\n        <uspat:ProsecutionHistoryData>\\n            <uspat:EventDate>1999-10-29</uspat:EventDate>\\n            <uspat:EventCode>CRFE</uspat:EventCode>\\n            <uspat:EventDescriptionText>CRF Is Good Technically / Entered into Database</uspat:EventDescriptionText>\\n        </uspat:ProsecutionHistoryData>\\n        <uspat:ProsecutionHistoryData>\\n            <uspat:EventDate>1999-10-21</uspat:EventDate>\\n            <uspat:EventCode>CRFL</uspat:EventCode>\\n            <uspat:EventDescriptionText>CRF Disk Has Been Received by Preexam / Group / PCT</uspat:EventDescriptionText>\\n        </uspat:ProsecutionHistoryData>\\n        <uspat:ProsecutionHistoryData>\\n            <uspat:EventDate>1999-10-21</uspat:EventDate>\\n            <uspat:EventCode>IEXX</uspat:EventCode>\\n            <uspat:EventDescriptionText>Initial Exam Team nn</uspat:EventDescriptionText>\\n        </uspat:ProsecutionHistoryData>\\n    </uspat:ProsecutionHistoryDataBag>\\n    <uspat:AssignmentDataBag uspat:assignmentTotalQuantity=\"2\">\\n        <uspat:AssignmentData com:sequenceNumber=\"1\">\\n            <uspat:ReelNumber>10331</uspat:ReelNumber>\\n            <uspat:FrameNumber>639</uspat:FrameNumber>\\n            <com:DocumentReceivedDate>1999-10-28</com:DocumentReceivedDate>\\n            <uscom:RecordedDate>1999-10-15</uscom:RecordedDate>\\n            <com:MailDate>2000-01-21</com:MailDate>\\n            <com:PageTotalQuantity>4</com:PageTotalQuantity>\\n            <uscom:ConveyanceText>ASSIGNMENT OF ASSIGNORS INTEREST (SEE DOCUMENT FOR DETAILS).</uscom:ConveyanceText>\\n            <uspat:AssignorBag>\\n                <uspat:Assignor>\\n                    <com:Contact>\\n                        <com:Name>\\n                            <com:EntityName>TAYLOR, JENNIFER K.</com:EntityName>\\n                        </com:Name>\\n                    </com:Contact>\\n                    <uscom:ExecutionDate>1999-10-14</uscom:ExecutionDate>\\n                </uspat:Assignor>\\n                <uspat:Assignor>\\n                    <com:Contact>\\n                        <com:Name>\\n                            <com:EntityName>COWSERT, LEX M.</com:EntityName>\\n                        </com:Name>\\n                    </com:Contact>\\n                    <uscom:ExecutionDate>1999-10-14</uscom:ExecutionDate>\\n                </uspat:Assignor>\\n            </uspat:AssignorBag>\\n            <pat:AssigneeBag>\\n                <pat:Assignee>\\n                    <com:Contact>\\n                        <com:Name>\\n                            <com:EntityName>ISIS PHARMACEUTICALS, INC.</com:EntityName>\\n                        </com:Name>\\n                        <com:PostalAddressBag>\\n                            <com:PostalAddress>\\n                                <com:PostalAddressText com:sequenceNumber=\"1\">2922 FARADAY AVE</com:PostalAddressText>\\n                                <com:PostalAddressText com:sequenceNumber=\"2\">CARLSBAD CALIFORNIA 92008</com:PostalAddressText>\\n                            </com:PostalAddress>\\n                        </com:PostalAddressBag>\\n                    </com:Contact>\\n                </pat:Assignee>\\n            </pat:AssigneeBag>\\n            <com:CorrespondenceAddress>\\n                <com:Contact>\\n                    <com:Name>\\n                        <com:EntityName>JANE MASSEY LICATA</com:EntityName>\\n                    </com:Name>\\n                    <com:PostalAddressBag>\\n                        <com:PostalAddress>\\n                            <com:PostalAddressText com:sequenceNumber=\"1\">LAW OFFICES OF JANE MASSEY LICATA</com:PostalAddressText>\\n                            <com:PostalAddressText com:sequenceNumber=\"2\">66 EAST MAIN STREET</com:PostalAddressText>\\n                            <com:PostalAddressText com:sequenceNumber=\"3\">MARLTON, NJ 08053</com:PostalAddressText>\\n                        </com:PostalAddress>\\n                    </com:PostalAddressBag>\\n                </com:Contact>\\n            </com:CorrespondenceAddress>\\n        </uspat:AssignmentData>\\n        <uspat:AssignmentData com:sequenceNumber=\"1\">\\n            <uspat:ReelNumber>43358</uspat:ReelNumber>\\n            <uspat:FrameNumber>831</uspat:FrameNumber>\\n            <com:DocumentReceivedDate>2017-07-26</com:DocumentReceivedDate>\\n            <uscom:RecordedDate>2017-07-26</uscom:RecordedDate>\\n            <com:MailDate>2017-08-23</com:MailDate>\\n            <com:PageTotalQuantity>4</com:PageTotalQuantity>\\n            <uscom:ConveyanceText>CHANGE OF NAME (SEE DOCUMENT FOR DETAILS).</uscom:ConveyanceText>\\n            <uspat:AssignorBag>\\n                <uspat:Assignor>\\n                    <com:Contact>\\n                        <com:Name>\\n                            <com:EntityName>ISIS PHARMACEUTICALS, INC.</com:EntityName>\\n                        </com:Name>\\n                    </com:Contact>\\n                    <uscom:ExecutionDate>2015-12-18</uscom:ExecutionDate>\\n                </uspat:Assignor>\\n            </uspat:AssignorBag>\\n            <pat:AssigneeBag>\\n                <pat:Assignee>\\n                    <com:Contact>\\n                        <com:Name>\\n                            <com:EntityName>IONIS PHARMACEUTICALS, INC.</com:EntityName>\\n                        </com:Name>\\n                        <com:PostalAddressBag>\\n                            <com:PostalAddress>\\n                                <com:PostalAddressText com:sequenceNumber=\"1\">2855 GAZELLE COURT</com:PostalAddressText>\\n                                <com:PostalAddressText com:sequenceNumber=\"2\">CARLSBAD CALIFORNIA 92010</com:PostalAddressText>\\n                            </com:PostalAddress>\\n                        </com:PostalAddressBag>\\n                    </com:Contact>\\n                </pat:Assignee>\\n            </pat:AssigneeBag>\\n            <com:CorrespondenceAddress>\\n                <com:Contact>\\n                    <com:Name>\\n                        <com:EntityName>IONIS PHARMACEUTICALS, INC.</com:EntityName>\\n                    </com:Name>\\n                    <com:PostalAddressBag>\\n                        <com:PostalAddress>\\n                            <com:PostalAddressText com:sequenceNumber=\"1\">2855 GAZELLE COURT</com:PostalAddressText>\\n                            <com:PostalAddressText com:sequenceNumber=\"2\">CARLSBAD, CA 92010</com:PostalAddressText>\\n                        </com:PostalAddress>\\n                    </com:PostalAddressBag>\\n                </com:Contact>\\n            </com:CorrespondenceAddress>\\n        </uspat:AssignmentData>\\n    </uspat:AssignmentDataBag>\\n</uspat:PatentData>\\n</uspat:PatentBulkData>'}"
      ]
     },
     "execution_count": 8,
     "metadata": {},
     "output_type": "execute_result"
    }
   ],
   "source": [
    "# get application info for 09/418,640\n",
    "result2 = client.download_document(type='application', number='09418640', format='xml')\n",
    "result2"
   ]
  },
  {
   "cell_type": "markdown",
   "metadata": {},
   "source": [
    "## Let's pull out the continuity data from the JSON result."
   ]
  },
  {
   "cell_type": "code",
   "execution_count": 9,
   "metadata": {},
   "outputs": [
    {
     "data": {
      "text/plain": [
       "bytes"
      ]
     },
     "execution_count": 9,
     "metadata": {},
     "output_type": "execute_result"
    }
   ],
   "source": [
    "type(result['json'])"
   ]
  },
  {
   "cell_type": "markdown",
   "metadata": {},
   "source": [
    "## We need to convert the internal byte string into a dictionary before we can pull out data."
   ]
  },
  {
   "cell_type": "code",
   "execution_count": 10,
   "metadata": {
    "scrolled": false
   },
   "outputs": [
    {
     "data": {
      "text/plain": [
       "dict"
      ]
     },
     "execution_count": 10,
     "metadata": {},
     "output_type": "execute_result"
    }
   ],
   "source": [
    "import json\n",
    "\n",
    "byte_str = result['json']\n",
    "mydata = json.loads(byte_str.decode('utf-8'))\n",
    "type(mydata)"
   ]
  },
  {
   "cell_type": "code",
   "execution_count": 11,
   "metadata": {
    "scrolled": false
   },
   "outputs": [
    {
     "data": {
      "text/plain": [
       "{'PatentData': [{'patentCaseMetadata': {'applicationNumberText': {'value': '09418640',\n",
       "     'electronicText': '09418640'},\n",
       "    'filingDate': '1999-10-15',\n",
       "    'applicationTypeCategory': 'Utility',\n",
       "    'partyBag': {'applicantBagOrInventorBagOrOwnerBag': [{'primaryExaminerOrAssistantExaminerOrAuthorizedOfficer': [{'name': {'personNameOrOrganizationNameOrEntityName': [{'personFullName': 'LACOURCIERE, KAREN A'}]}}]},\n",
       "      {'inventorOrDeceasedInventor': [{'contactOrPublicationContact': [{'name': {'personNameOrOrganizationNameOrEntityName': [{'personStructuredName': {'firstName': 'JENNIFER',\n",
       "               'middleName': 'K.',\n",
       "               'lastName': 'TAYLOR'}}]},\n",
       "           'cityName': 'SOLANA BEACH',\n",
       "           'geographicRegionName': {'value': 'CA',\n",
       "            'geographicRegionCategory': 'STATE'},\n",
       "           'countryCode': 'US'}]},\n",
       "        {'contactOrPublicationContact': [{'name': {'personNameOrOrganizationNameOrEntityName': [{'personStructuredName': {'firstName': 'LEX',\n",
       "               'middleName': 'M.',\n",
       "               'lastName': 'COWSERT'}}]},\n",
       "           'cityName': 'CARLSBAD',\n",
       "           'geographicRegionName': {'value': 'CA',\n",
       "            'geographicRegionCategory': 'STATE'},\n",
       "           'countryCode': 'US'}]}]},\n",
       "      {'registeredPractitioner': [{'registeredPractitionerRegistrationNumber': '40812',\n",
       "         'registeredPractitionerCategory': 'ATTORNEY',\n",
       "         'contactOrPublicationContact': [{'name': {'personNameOrOrganizationNameOrEntityName': [{'personStructuredName': {'firstName': 'Sheryl',\n",
       "               'middleName': '',\n",
       "               'lastName': 'Silverstein',\n",
       "               'nameSuffix': ''}}]},\n",
       "           'phoneNumberBag': {'phoneNumber': [{'value': '760-473-9472'}]}}],\n",
       "         'sequenceNumber': '1',\n",
       "         'activeIndicator': True},\n",
       "        {'registeredPractitionerRegistrationNumber': '50869',\n",
       "         'registeredPractitionerCategory': 'ATTORNEY',\n",
       "         'contactOrPublicationContact': [{'name': {'personNameOrOrganizationNameOrEntityName': [{'personStructuredName': {'firstName': 'Julie',\n",
       "               'middleName': '',\n",
       "               'lastName': 'Hopper',\n",
       "               'nameSuffix': ''}}]},\n",
       "           'phoneNumberBag': {'phoneNumber': [{'value': '760-603-2794'}]}}],\n",
       "         'sequenceNumber': '2',\n",
       "         'activeIndicator': True},\n",
       "        {'registeredPractitionerRegistrationNumber': '54119',\n",
       "         'registeredPractitionerCategory': 'ATTORNEY',\n",
       "         'contactOrPublicationContact': [{'name': {'personNameOrOrganizationNameOrEntityName': [{'personStructuredName': {'firstName': 'Karin',\n",
       "               'middleName': '',\n",
       "               'lastName': 'Gerstin',\n",
       "               'nameSuffix': ''}}]},\n",
       "           'phoneNumberBag': {'phoneNumber': [{'value': '858-350-2300'}]}}],\n",
       "         'sequenceNumber': '3',\n",
       "         'activeIndicator': True},\n",
       "        {'registeredPractitionerRegistrationNumber': '52903',\n",
       "         'registeredPractitionerCategory': 'ATTORNEY',\n",
       "         'contactOrPublicationContact': [{'name': {'personNameOrOrganizationNameOrEntityName': [{'personStructuredName': {'firstName': 'Clifford',\n",
       "               'middleName': '',\n",
       "               'lastName': 'Ford',\n",
       "               'nameSuffix': ''}}]},\n",
       "           'phoneNumberBag': {'phoneNumber': [{'value': '760-603-2784'}]}}],\n",
       "         'sequenceNumber': '4',\n",
       "         'activeIndicator': True},\n",
       "        {'registeredPractitionerRegistrationNumber': '59407',\n",
       "         'registeredPractitionerCategory': 'ATTORNEY',\n",
       "         'contactOrPublicationContact': [{'name': {'personNameOrOrganizationNameOrEntityName': [{'personStructuredName': {'firstName': 'Jeffrey',\n",
       "               'middleName': '',\n",
       "               'lastName': 'Tung',\n",
       "               'nameSuffix': ''}}]},\n",
       "           'phoneNumberBag': {'phoneNumber': [{'value': '760-931-9200'}]}}],\n",
       "         'sequenceNumber': '5',\n",
       "         'activeIndicator': True},\n",
       "        {'registeredPractitionerRegistrationNumber': '71439',\n",
       "         'registeredPractitionerCategory': 'AGENT',\n",
       "         'contactOrPublicationContact': [{'name': {'personNameOrOrganizationNameOrEntityName': [{'personStructuredName': {'firstName': 'Roshni',\n",
       "               'middleName': '',\n",
       "               'lastName': 'Chintalapati',\n",
       "               'nameSuffix': ''}}]},\n",
       "           'phoneNumberBag': {'phoneNumber': [{'value': '760-931-9200'}]}}],\n",
       "         'sequenceNumber': '6',\n",
       "         'activeIndicator': True},\n",
       "        {'registeredPractitionerRegistrationNumber': '72921',\n",
       "         'registeredPractitionerCategory': 'AGENT',\n",
       "         'contactOrPublicationContact': [{'name': {'personNameOrOrganizationNameOrEntityName': [{'personStructuredName': {'firstName': 'Erin',\n",
       "               'middleName': '',\n",
       "               'lastName': 'Soto',\n",
       "               'nameSuffix': ''}}]},\n",
       "           'phoneNumberBag': {'phoneNumber': [{'value': '858-350-2357'}]}}],\n",
       "         'sequenceNumber': '7',\n",
       "         'activeIndicator': True},\n",
       "        {'registeredPractitionerRegistrationNumber': '76970',\n",
       "         'registeredPractitionerCategory': 'AGENT',\n",
       "         'contactOrPublicationContact': [{'name': {'personNameOrOrganizationNameOrEntityName': [{'personStructuredName': {'firstName': 'Theresa',\n",
       "               'middleName': '',\n",
       "               'lastName': 'Sample',\n",
       "               'nameSuffix': ''}}]},\n",
       "           'phoneNumberBag': {'phoneNumber': [{'value': '760-603-2486'}]}}],\n",
       "         'sequenceNumber': '8',\n",
       "         'activeIndicator': True}]},\n",
       "      {'partyIdentifierOrContact': [{'name': {'personNameOrOrganizationNameOrEntityName': [{'personStructuredName': {'lastName': 'IONIS PHARMACEUTICALS INC'}}]},\n",
       "         'postalAddressBag': {'postalAddress': [{'postalStructuredAddress': {'addressLineText': [{'value': '2855 Gazelle Court'}],\n",
       "             'cityName': 'CARLSBAD',\n",
       "             'geographicRegionName': [{'value': 'CA'}],\n",
       "             'countryCode': 'US',\n",
       "             'postalCode': '92010'}}]}},\n",
       "        {'value': '27180'}]}]},\n",
       "    'groupArtUnitNumber': {'value': '1635', 'electronicText': '1635'},\n",
       "    'applicationConfirmationNumber': '9148',\n",
       "    'applicantFileReference': 'RTS-0102',\n",
       "    'patentClassificationBag': {'cpcClassificationBagOrIPCClassificationOrECLAClassificationBag': [{'ipOfficeCode': 'US',\n",
       "       'mainNationalClassification': {'nationalClass': '435',\n",
       "        'nationalSubclass': '375000'}}]},\n",
       "    'businessEntityStatusCategory': 'SMALL',\n",
       "    'firstInventorToFileIndicator': 'false',\n",
       "    'inventionTitle': {'content': ['ANTISENSE INHIBITION OF BCL-6 EXPRESSION']},\n",
       "    'applicationStatusCategory': 'Patented Case',\n",
       "    'applicationStatusDate': '2000-10-12',\n",
       "    'officialFileLocationCategory': 'FILE REPOSITORY (FRANCONIA)',\n",
       "    'officialFileLocationDate': '2018-06-22',\n",
       "    'patentGrantIdentification': {'patentNumber': '6140125',\n",
       "     'grantDate': '2000-10-31'},\n",
       "    'relatedDocumentData': {'parentDocumentDataOrChildDocumentData': [{'descriptionText': 'which is - claims the benefit of 09418640',\n",
       "       'applicationNumberText': 'PCT/US00/27963',\n",
       "       'filingDate': '2000-10-11',\n",
       "       'childDocumentStatusCode': '-',\n",
       "       'patentNumber': ''}]}},\n",
       "   'prosecutionHistoryDataBag': {'prosecutionHistoryData': [{'eventDate': '2008-03-25',\n",
       "      'eventCode': 'SMAL',\n",
       "      'eventDescriptionText': 'Applicant Has Filed a Verified Statement of Small Entity Status in Compliance with 37 CFR 1.27'},\n",
       "     {'eventDate': '2005-11-07',\n",
       "      'eventCode': 'C.AD',\n",
       "      'eventDescriptionText': 'Correspondence Address Change'},\n",
       "     {'eventDate': '2005-11-08',\n",
       "      'eventCode': 'PA..',\n",
       "      'eventDescriptionText': 'Change in Power of Attorney (May Include Associate POA)'},\n",
       "     {'eventDate': '2004-04-09',\n",
       "      'eventCode': 'BIG.',\n",
       "      'eventDescriptionText': 'ENTITY STATUS SET TO UNDISCOUNTED (INITIAL DEFAULT SETTING OR STATUS CHANGE)'},\n",
       "     {'eventDate': '2002-02-03',\n",
       "      'eventCode': 'N423',\n",
       "      'eventDescriptionText': 'Post Issue Communication - Certificate of Correction'},\n",
       "     {'eventDate': '2000-07-13',\n",
       "      'eventCode': 'SENT',\n",
       "      'eventDescriptionText': 'Workflow - File Sent to Contractor'},\n",
       "     {'eventDate': '2000-11-03',\n",
       "      'eventCode': 'CRFA',\n",
       "      'eventDescriptionText': 'Sequence Moved to Public Database'},\n",
       "     {'eventDate': '2000-10-31',\n",
       "      'eventCode': 'PGM/',\n",
       "      'eventDescriptionText': 'Recordation of Patent Grant Mailed'},\n",
       "     {'eventDate': '2000-10-12',\n",
       "      'eventCode': 'WPIR',\n",
       "      'eventDescriptionText': 'Issue Notification Mailed'},\n",
       "     {'eventDate': '2000-07-07',\n",
       "      'eventCode': 'N084',\n",
       "      'eventDescriptionText': 'Issue Fee Payment Verified'},\n",
       "     {'eventDate': '2000-08-20',\n",
       "      'eventCode': 'PILS',\n",
       "      'eventDescriptionText': 'Application Is Considered Ready for Issue'},\n",
       "     {'eventDate': '2000-07-19',\n",
       "      'eventCode': 'CRFT',\n",
       "      'eventDescriptionText': 'Sequence Forwarded to Pubs on Tape'},\n",
       "     {'eventDate': '2000-05-08',\n",
       "      'eventCode': 'MN/=.',\n",
       "      'eventDescriptionText': 'Mail Notice of Allowance'},\n",
       "     {'eventDate': '2000-05-08',\n",
       "      'eventCode': 'N/=.',\n",
       "      'eventDescriptionText': 'Notice of Allowance Data Verification Completed'},\n",
       "     {'eventDate': '2000-05-02',\n",
       "      'eventCode': 'EXIN',\n",
       "      'eventDescriptionText': 'Interview Summary Record'},\n",
       "     {'eventDate': '2000-04-25',\n",
       "      'eventCode': 'FWDX',\n",
       "      'eventDescriptionText': 'Date Forwarded to Examiner'},\n",
       "     {'eventDate': '2000-04-14',\n",
       "      'eventCode': 'A...',\n",
       "      'eventDescriptionText': 'Response after Non-Final Action'},\n",
       "     {'eventDate': '2000-01-21',\n",
       "      'eventCode': 'MCTNF',\n",
       "      'eventDescriptionText': 'Mail Non-Final Rejection'},\n",
       "     {'eventDate': '2000-01-18',\n",
       "      'eventCode': 'CTNF',\n",
       "      'eventDescriptionText': 'Non-Final Rejection'},\n",
       "     {'eventDate': '1999-10-15',\n",
       "      'eventCode': 'M844',\n",
       "      'eventDescriptionText': 'Information Disclosure Statement (IDS) Filed'},\n",
       "     {'eventDate': '1999-10-15',\n",
       "      'eventCode': 'WIDS',\n",
       "      'eventDescriptionText': 'Information Disclosure Statement (IDS) Filed'},\n",
       "     {'eventDate': '1999-11-17',\n",
       "      'eventCode': 'DOCK',\n",
       "      'eventDescriptionText': 'Case Docketed to Examiner in GAU'},\n",
       "     {'eventDate': '1999-11-12',\n",
       "      'eventCode': 'OIPE',\n",
       "      'eventDescriptionText': 'Application Dispatched from OIPE'},\n",
       "     {'eventDate': '1999-11-04',\n",
       "      'eventCode': 'SCAN',\n",
       "      'eventDescriptionText': 'IFW Scan & PACR Auto Security Review'},\n",
       "     {'eventDate': '1999-10-29',\n",
       "      'eventCode': 'CRFE',\n",
       "      'eventDescriptionText': 'CRF Is Good Technically / Entered into Database'},\n",
       "     {'eventDate': '1999-10-21',\n",
       "      'eventCode': 'CRFL',\n",
       "      'eventDescriptionText': 'CRF Disk Has Been Received by Preexam / Group / PCT'},\n",
       "     {'eventDate': '1999-10-21',\n",
       "      'eventCode': 'IEXX',\n",
       "      'eventDescriptionText': 'Initial Exam Team nn'}]},\n",
       "   'assignmentDataBag': {'assignmentData': [{'reelNumber': '10331',\n",
       "      'frameNumber': '639',\n",
       "      'documentReceivedDate': '1999-10-28',\n",
       "      'recordedDate': '1999-10-15',\n",
       "      'mailDate': '2000-01-21',\n",
       "      'pageTotalQuantity': 4,\n",
       "      'conveyanceText': 'ASSIGNMENT OF ASSIGNORS INTEREST (SEE DOCUMENT FOR DETAILS).',\n",
       "      'assignorBag': {'assignor': [{'executionDate': '1999-10-14',\n",
       "         'contactOrPublicationContact': [{'name': {'personNameOrOrganizationNameOrEntityName': [{'value': 'TAYLOR, JENNIFER K.'}]}}]},\n",
       "        {'executionDate': '1999-10-14',\n",
       "         'contactOrPublicationContact': [{'name': {'personNameOrOrganizationNameOrEntityName': [{'value': 'COWSERT, LEX M.'}]}}]}]},\n",
       "      'assigneeBag': {'assignee': [{'contactOrPublicationContact': [{'name': {'personNameOrOrganizationNameOrEntityName': [{'value': 'ISIS PHARMACEUTICALS, INC.'}]},\n",
       "           'postalAddressBag': {'postalAddress': [{'postalAddressText': [{'sequenceNumber': '1',\n",
       "                'value': '2922 FARADAY AVE'},\n",
       "               {'sequenceNumber': '2',\n",
       "                'value': 'CARLSBAD CALIFORNIA 92008'}]}]}}]}]},\n",
       "      'correspondenceAddress': {'partyIdentifierOrContact': [{'name': {'personNameOrOrganizationNameOrEntityName': [{'value': 'JANE MASSEY LICATA'}]},\n",
       "         'postalAddressBag': {'postalAddress': [{'postalAddressText': [{'sequenceNumber': '1',\n",
       "              'value': 'LAW OFFICES OF JANE MASSEY LICATA'},\n",
       "             {'sequenceNumber': '2', 'value': '66 EAST MAIN STREET'},\n",
       "             {'sequenceNumber': '3', 'value': 'MARLTON, NJ 08053'}]}]}}]},\n",
       "      'sequenceNumber': '1'},\n",
       "     {'reelNumber': '43358',\n",
       "      'frameNumber': '831',\n",
       "      'documentReceivedDate': '2017-07-26',\n",
       "      'recordedDate': '2017-07-26',\n",
       "      'mailDate': '2017-08-23',\n",
       "      'pageTotalQuantity': 4,\n",
       "      'conveyanceText': 'CHANGE OF NAME (SEE DOCUMENT FOR DETAILS).',\n",
       "      'assignorBag': {'assignor': [{'executionDate': '2015-12-18',\n",
       "         'contactOrPublicationContact': [{'name': {'personNameOrOrganizationNameOrEntityName': [{'value': 'ISIS PHARMACEUTICALS, INC.'}]}}]}]},\n",
       "      'assigneeBag': {'assignee': [{'contactOrPublicationContact': [{'name': {'personNameOrOrganizationNameOrEntityName': [{'value': 'IONIS PHARMACEUTICALS, INC.'}]},\n",
       "           'postalAddressBag': {'postalAddress': [{'postalAddressText': [{'sequenceNumber': '1',\n",
       "                'value': '2855 GAZELLE COURT'},\n",
       "               {'sequenceNumber': '2',\n",
       "                'value': 'CARLSBAD CALIFORNIA 92010'}]}]}}]}]},\n",
       "      'correspondenceAddress': {'partyIdentifierOrContact': [{'name': {'personNameOrOrganizationNameOrEntityName': [{'value': 'IONIS PHARMACEUTICALS, INC.'}]},\n",
       "         'postalAddressBag': {'postalAddress': [{'postalAddressText': [{'sequenceNumber': '1',\n",
       "              'value': '2855 GAZELLE COURT'},\n",
       "             {'sequenceNumber': '2', 'value': 'CARLSBAD, CA 92010'}]}]}}]},\n",
       "      'sequenceNumber': '1'}],\n",
       "    'assignmentTotalQuantity': 2},\n",
       "   'st96Version': 'V3_1',\n",
       "   'ipoVersion': 'US_V8_0'}]}"
      ]
     },
     "execution_count": 11,
     "metadata": {},
     "output_type": "execute_result"
    }
   ],
   "source": [
    "mydata"
   ]
  },
  {
   "cell_type": "markdown",
   "metadata": {},
   "source": [
    "## Now we can pull out the related documents information."
   ]
  },
  {
   "cell_type": "code",
   "execution_count": 12,
   "metadata": {},
   "outputs": [
    {
     "data": {
      "text/plain": [
       "[{'descriptionText': 'which is - claims the benefit of 09418640',\n",
       "  'applicationNumberText': 'PCT/US00/27963',\n",
       "  'filingDate': '2000-10-11',\n",
       "  'childDocumentStatusCode': '-',\n",
       "  'patentNumber': ''}]"
      ]
     },
     "execution_count": 12,
     "metadata": {},
     "output_type": "execute_result"
    }
   ],
   "source": [
    "mydata['PatentData'][0]['patentCaseMetadata']['relatedDocumentData']['parentDocumentDataOrChildDocumentData']"
   ]
  },
  {
   "cell_type": "markdown",
   "metadata": {},
   "source": [
    "## If we compare this to the results on the [PEDS search page](https://ped.uspto.gov/peds/#/search) we see that it matches.\n",
    "\n",
    "This application has no parent continuity data found. It does have child continuity data, which is a PCT application (app. no. PCT/US00/27963) claiming the benefit of this one."
   ]
  }
 ],
 "metadata": {
  "kernelspec": {
   "display_name": "Python 3",
   "language": "python",
   "name": "python3"
  },
  "language_info": {
   "codemirror_mode": {
    "name": "ipython",
    "version": 3
   },
   "file_extension": ".py",
   "mimetype": "text/x-python",
   "name": "python",
   "nbconvert_exporter": "python",
   "pygments_lexer": "ipython3",
   "version": "3.6.12"
  }
 },
 "nbformat": 4,
 "nbformat_minor": 4
}
