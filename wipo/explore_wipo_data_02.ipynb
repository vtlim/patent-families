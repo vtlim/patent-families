{
 "cells": [
  {
   "cell_type": "markdown",
   "metadata": {},
   "source": [
    "# Obtaining priority data from WIPO PatentScope\n",
    "\n",
    "**Version**: Jan 05 2021\n",
    "\n",
    "See [explore_wipo_data.ipynb](https://github.com/vtlim/patfam/blob/main/wipo/explore_wipo_data.ipynb) for more information."
   ]
  },
  {
   "cell_type": "markdown",
   "metadata": {},
   "source": [
    "## Import the package."
   ]
  },
  {
   "cell_type": "code",
   "execution_count": 1,
   "metadata": {},
   "outputs": [],
   "source": [
    "from selenium import webdriver\n",
    "from selenium.webdriver.chrome.options import Options\n",
    "from selenium.webdriver.common.keys import Keys\n",
    "from selenium.common.exceptions import NoSuchElementException"
   ]
  },
  {
   "cell_type": "markdown",
   "metadata": {},
   "source": [
    "## Set options for Google Chrome and create a Chrome WebDriver."
   ]
  },
  {
   "cell_type": "code",
   "execution_count": 2,
   "metadata": {},
   "outputs": [],
   "source": [
    "# set chrome options\n",
    "chrome_options = Options()\n",
    "chrome_options.add_argument('--headless')\n",
    "chrome_options.add_argument('--no-sandbox')\n",
    "chrome_options.add_argument('--disable-dev-shm-usage')\n",
    "\n",
    "# create a chrome webdriver\n",
    "driver = webdriver.Chrome('/usr/bin/chromedriver', options=chrome_options)\n",
    "\n",
    "# wait for the requested element x seconds before throwing error\n",
    "# tried to debug the NoSuchElementException on obtaining priority data (see below)\n",
    "#driver.implicitly_wait(10)"
   ]
  },
  {
   "cell_type": "markdown",
   "metadata": {},
   "source": [
    "## Navigate to the target webpage."
   ]
  },
  {
   "cell_type": "code",
   "execution_count": 3,
   "metadata": {},
   "outputs": [],
   "source": [
    "driver.get('https://patentscope.wipo.int/search/en/search.jsf')"
   ]
  },
  {
   "cell_type": "markdown",
   "metadata": {},
   "source": [
    "## Input the search term and click submit."
   ]
  },
  {
   "cell_type": "code",
   "execution_count": 4,
   "metadata": {},
   "outputs": [],
   "source": [
    "inputElement = driver.find_element_by_id(\"simpleSearchForm:fpSearch:input\")\n",
    "inputElement.send_keys('PCT/US00/27963')"
   ]
  },
  {
   "cell_type": "code",
   "execution_count": 5,
   "metadata": {},
   "outputs": [
    {
     "data": {
      "text/plain": [
       "True"
      ]
     },
     "execution_count": 5,
     "metadata": {},
     "output_type": "execute_result"
    }
   ],
   "source": [
    "driver.get_screenshot_as_file(\"test.png\")"
   ]
  },
  {
   "cell_type": "code",
   "execution_count": 6,
   "metadata": {},
   "outputs": [],
   "source": [
    "inputElement.send_keys(Keys.ENTER)"
   ]
  },
  {
   "cell_type": "markdown",
   "metadata": {},
   "source": [
    "## Consider a less valid search term.\n",
    "\n",
    "This particular search term brings us right to the document (\"WO2001029057\"). If we try out a less understood search term, that will either bring us to a \"no results found\" page or a page of search results."
   ]
  },
  {
   "cell_type": "code",
   "execution_count": 7,
   "metadata": {},
   "outputs": [],
   "source": [
    "driver.quit()\n",
    "driver = webdriver.Chrome('/usr/bin/chromedriver', options=chrome_options)\n",
    "driver.get('https://patentscope.wipo.int/search/en/search.jsf')"
   ]
  },
  {
   "cell_type": "code",
   "execution_count": 8,
   "metadata": {},
   "outputs": [],
   "source": [
    "inputElement = driver.find_element_by_id(\"simpleSearchForm:fpSearch:input\")\n",
    "inputElement.send_keys('PCT/US00/2796x')"
   ]
  },
  {
   "cell_type": "code",
   "execution_count": 9,
   "metadata": {
    "scrolled": true
   },
   "outputs": [
    {
     "data": {
      "text/plain": [
       "True"
      ]
     },
     "execution_count": 9,
     "metadata": {},
     "output_type": "execute_result"
    }
   ],
   "source": [
    "driver.get_screenshot_as_file(\"test.png\")"
   ]
  },
  {
   "cell_type": "code",
   "execution_count": 10,
   "metadata": {},
   "outputs": [],
   "source": [
    "inputElement.send_keys(Keys.ENTER)"
   ]
  },
  {
   "cell_type": "markdown",
   "metadata": {},
   "source": [
    "## Search by an HTML identifier."
   ]
  },
  {
   "cell_type": "code",
   "execution_count": 11,
   "metadata": {
    "scrolled": false
   },
   "outputs": [
    {
     "name": "stdout",
     "output_type": "stream",
     "text": [
      "Message: no such element: Unable to locate element: {\"method\":\"css selector\",\"selector\":\"[id=\"detailMainForm:PCTBIBLIO_content\"]\"}\n",
      "  (Session info: headless chrome=87.0.4280.88)\n",
      "\n",
      "The request is invalid, or there is no biblio data\n"
     ]
    }
   ],
   "source": [
    "search_id = \"detailMainForm:PCTBIBLIO_content\"\n",
    "\n",
    "try:\n",
    "    mydata = driver.find_element_by_id(search_id)\n",
    "    print(mydata.text)\n",
    "except NoSuchElementException as e:\n",
    "    print(e)\n",
    "    print(\"The request is invalid, or there is no biblio data\")"
   ]
  }
 ],
 "metadata": {
  "kernelspec": {
   "display_name": "Python 3",
   "language": "python",
   "name": "python3"
  },
  "language_info": {
   "codemirror_mode": {
    "name": "ipython",
    "version": 3
   },
   "file_extension": ".py",
   "mimetype": "text/x-python",
   "name": "python",
   "nbconvert_exporter": "python",
   "pygments_lexer": "ipython3",
   "version": "3.6.10"
  }
 },
 "nbformat": 4,
 "nbformat_minor": 4
}
