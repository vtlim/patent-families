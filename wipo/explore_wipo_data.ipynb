{
 "cells": [
  {
   "cell_type": "markdown",
   "metadata": {},
   "source": [
    "# Obtaining priority data from WIPO PatentScope\n",
    "\n",
    "**Version**: Dec 16 2020\n",
    "\n",
    "Reference: [Web Scraping using Selenium and Python](https://www.scrapingbee.com/blog/selenium-python/)"
   ]
  },
  {
   "cell_type": "markdown",
   "metadata": {},
   "source": [
    "## Import the package."
   ]
  },
  {
   "cell_type": "code",
   "execution_count": 1,
   "metadata": {},
   "outputs": [],
   "source": [
    "from selenium import webdriver\n",
    "from selenium.webdriver.chrome.options import Options\n",
    "from selenium.common.exceptions import NoSuchElementException"
   ]
  },
  {
   "cell_type": "markdown",
   "metadata": {},
   "source": [
    "## Set options for Google Chrome and create a Chrome WebDriver."
   ]
  },
  {
   "cell_type": "code",
   "execution_count": 2,
   "metadata": {},
   "outputs": [],
   "source": [
    "# set chrome options\n",
    "chrome_options = Options()\n",
    "chrome_options.add_argument('--headless')\n",
    "chrome_options.add_argument('--no-sandbox')\n",
    "chrome_options.add_argument('--disable-dev-shm-usage')\n",
    "\n",
    "# create a chrome webdriver\n",
    "driver = webdriver.Chrome('/usr/bin/chromedriver', options=chrome_options)\n",
    "\n",
    "# wait for the requested element x seconds before throwing error\n",
    "# tried to debug the NoSuchElementException on obtaining priority data (see below)\n",
    "#driver.implicitly_wait(10)"
   ]
  },
  {
   "cell_type": "markdown",
   "metadata": {},
   "source": [
    "## Navigate to the target webpage."
   ]
  },
  {
   "cell_type": "code",
   "execution_count": 3,
   "metadata": {},
   "outputs": [],
   "source": [
    "driver.get('https://patentscope.wipo.int/search/en/detail.jsf?docId=WO2001029057')"
   ]
  },
  {
   "cell_type": "markdown",
   "metadata": {},
   "source": [
    "## Search for the priority data based on the HTML identifier.\n",
    "You can use various HTML element identifiers such as tag name, class name, ID, XPath, etc. To find this:\n",
    "1. Open the target page in a browser, \n",
    "2. Inspect webpage elements (access on Windows with Ctrl-Shift-C), and\n",
    "3. Locate in the HTML code the class name (`class=\"X\"`), ID name (`id=\"X\"`), or other identifier corresponding to the data of interest."
   ]
  },
  {
   "cell_type": "markdown",
   "metadata": {},
   "source": [
    "### Here's a search by id. "
   ]
  },
  {
   "cell_type": "code",
   "execution_count": 4,
   "metadata": {
    "scrolled": false
   },
   "outputs": [
    {
     "name": "stdout",
     "output_type": "stream",
     "text": [
      "Publication Number\n",
      "WO/2001/029057\n",
      "Publication Date\n",
      "26.04.2001\n",
      "International Application No.\n",
      "PCT/US2000/027963\n",
      "International Filing Date\n",
      "11.10.2000\n",
      "Chapter 2 Demand Filed\n",
      "10.05.2001\n",
      "IPC\n",
      "A61K 38/00 2006.01 C07H 21/00 2006.01 C12N 15/11 2006.01\n",
      "CPC\n",
      "A61K 38/00 A61P 35/00 C07H 21/00 C12N 15/113 C12N 2310/315 C12N 2310/321\n",
      "View more classifications\n",
      "Applicants\n",
      "ISIS PHARMACEUTICALS, INC. [US]/[US] (AllExceptUS)\n",
      "TAYLOR, Jennifer, K. [US]/[US] (UsOnly)\n",
      "COWSERT, Lex, M. [US]/[US] (UsOnly)\n",
      "Inventors\n",
      "TAYLOR, Jennifer, K.\n",
      "COWSERT, Lex, M.\n",
      "Agents\n",
      "LICATA, Jane, Massey\n",
      "Priority Data\n",
      "09/418,640 15.10.1999 US\n",
      "Publication Language\n",
      "English (EN)\n",
      "Filing Language\n",
      "English (EN)\n",
      "Designated States\n",
      "View all\n",
      "\n",
      "\n",
      "\n",
      "\n",
      "Title\n",
      "(EN) ANTISENSE MODULATION OF BCL-6 EXPRESSION\n",
      "(FR) MODULATION ANTISENS DE L'EXPRESSION DE BCL-6\n",
      "Abstract\n",
      "(EN)\n",
      "Antisense compounds, compositions and methods are provided for modulating the expression of bcl-6. The compositions comprise antisense coumpounds, particularly antisense oligonucleotides, targeted to nucleic acids encoding bcl-6. Methods of using these compounds for modulation of bcl-6 expression and for treatment of diseases associated with expression of bcl-6 are provided.\n",
      "(FR)\n",
      "La présente invention concerne des composés antisens, des compositions et des procédés permettant de moduler l'expression de bcl-6. Ces compositions comprennent des composés antisens, en particulier des oligonucléotides antisens, ciblés sur des acides nucléiques codant bcl-6. L'invention concerne également des procédés permettant d'utiliser ces composés pour moduler l'expression de bcl-6, ainsi que pour le traitement d'affections associées à l'expression de bcl-6.\n",
      "Also published as\n",
      "AU2000080059 EP1220866 JP2003512037 US09418640\n",
      "Latest bibliographic data on file with the International Bureau\n"
     ]
    }
   ],
   "source": [
    "search_id = \"detailMainForm:PCTBIBLIO_content\"\n",
    "\n",
    "try:\n",
    "    mydata = driver.find_element_by_id(search_id)\n",
    "    print(mydata.text)\n",
    "except NoSuchElementException as e:\n",
    "    print(e)\n",
    "    print(\"The request is invalid, or there is no biblio data\")"
   ]
  },
  {
   "cell_type": "markdown",
   "metadata": {},
   "source": [
    "### Here's a search by class name. The `div` tag of this class is within the `div` tag of the above id search.\n",
    "The output is nearly identical. The only this output does NOT have is the last line: \"Latest bibliographic data on file with the International Bureau\"."
   ]
  },
  {
   "cell_type": "code",
   "execution_count": 5,
   "metadata": {
    "scrolled": false
   },
   "outputs": [
    {
     "name": "stdout",
     "output_type": "stream",
     "text": [
      "Publication Number\n",
      "WO/2001/029057\n",
      "Publication Date\n",
      "26.04.2001\n",
      "International Application No.\n",
      "PCT/US2000/027963\n",
      "International Filing Date\n",
      "11.10.2000\n",
      "Chapter 2 Demand Filed\n",
      "10.05.2001\n",
      "IPC\n",
      "A61K 38/00 2006.01 C07H 21/00 2006.01 C12N 15/11 2006.01\n",
      "CPC\n",
      "A61K 38/00 A61P 35/00 C07H 21/00 C12N 15/113 C12N 2310/315 C12N 2310/321\n",
      "View more classifications\n",
      "Applicants\n",
      "ISIS PHARMACEUTICALS, INC. [US]/[US] (AllExceptUS)\n",
      "TAYLOR, Jennifer, K. [US]/[US] (UsOnly)\n",
      "COWSERT, Lex, M. [US]/[US] (UsOnly)\n",
      "Inventors\n",
      "TAYLOR, Jennifer, K.\n",
      "COWSERT, Lex, M.\n",
      "Agents\n",
      "LICATA, Jane, Massey\n",
      "Priority Data\n",
      "09/418,640 15.10.1999 US\n",
      "Publication Language\n",
      "English (EN)\n",
      "Filing Language\n",
      "English (EN)\n",
      "Designated States\n",
      "View all\n",
      "\n",
      "\n",
      "\n",
      "\n",
      "Title\n",
      "(EN) ANTISENSE MODULATION OF BCL-6 EXPRESSION\n",
      "(FR) MODULATION ANTISENS DE L'EXPRESSION DE BCL-6\n",
      "Abstract\n",
      "(EN)\n",
      "Antisense compounds, compositions and methods are provided for modulating the expression of bcl-6. The compositions comprise antisense coumpounds, particularly antisense oligonucleotides, targeted to nucleic acids encoding bcl-6. Methods of using these compounds for modulation of bcl-6 expression and for treatment of diseases associated with expression of bcl-6 are provided.\n",
      "(FR)\n",
      "La présente invention concerne des composés antisens, des compositions et des procédés permettant de moduler l'expression de bcl-6. Ces compositions comprennent des composés antisens, en particulier des oligonucléotides antisens, ciblés sur des acides nucléiques codant bcl-6. L'invention concerne également des procédés permettant d'utiliser ces composés pour moduler l'expression de bcl-6, ainsi que pour le traitement d'affections associées à l'expression de bcl-6.\n",
      "Also published as\n",
      "AU2000080059 EP1220866 JP2003512037 US09418640\n"
     ]
    }
   ],
   "source": [
    "search_class = \"ps-biblio-data\"\n",
    "try:\n",
    "    mydata = driver.find_element_by_class_name(search_class)\n",
    "    print(mydata.text)\n",
    "except NoSuchElementException as e:\n",
    "    print(e)\n",
    "    print(\"The request is invalid, or there is no biblio data\")"
   ]
  },
  {
   "cell_type": "markdown",
   "metadata": {},
   "source": [
    "### Here's a further subset of the data."
   ]
  },
  {
   "cell_type": "code",
   "execution_count": 6,
   "metadata": {
    "scrolled": false
   },
   "outputs": [
    {
     "name": "stdout",
     "output_type": "stream",
     "text": [
      "Publication Number\n",
      "WO/2001/029057\n",
      "Publication Date\n",
      "26.04.2001\n",
      "International Application No.\n",
      "PCT/US2000/027963\n",
      "International Filing Date\n",
      "11.10.2000\n",
      "Chapter 2 Demand Filed\n",
      "10.05.2001\n",
      "IPC\n",
      "A61K 38/00 2006.01 C07H 21/00 2006.01 C12N 15/11 2006.01\n",
      "CPC\n",
      "A61K 38/00 A61P 35/00 C07H 21/00 C12N 15/113 C12N 2310/315 C12N 2310/321\n",
      "View more classifications\n",
      "Applicants\n",
      "ISIS PHARMACEUTICALS, INC. [US]/[US] (AllExceptUS)\n",
      "TAYLOR, Jennifer, K. [US]/[US] (UsOnly)\n",
      "COWSERT, Lex, M. [US]/[US] (UsOnly)\n",
      "Inventors\n",
      "TAYLOR, Jennifer, K.\n",
      "COWSERT, Lex, M.\n",
      "Agents\n",
      "LICATA, Jane, Massey\n",
      "Priority Data\n",
      "09/418,640 15.10.1999 US\n",
      "Publication Language\n",
      "English (EN)\n",
      "Filing Language\n",
      "English (EN)\n",
      "Designated States\n",
      "View all\n"
     ]
    }
   ],
   "source": [
    "search_class = \"ps-biblio-data--biblio-card\"\n",
    "try:\n",
    "    mydata = driver.find_element_by_class_name(search_class)\n",
    "    print(mydata.text)\n",
    "except NoSuchElementException as e:\n",
    "    print(e)\n",
    "    print(\"The request is invalid, or there is no biblio data\")"
   ]
  },
  {
   "cell_type": "markdown",
   "metadata": {},
   "source": [
    "### We then hone in on the \"Priority Data\" and search by its corresponding id.\n",
    "This part doesn't seem to work consistently. Sometimes it returns the expected output of:\n",
    "```\n",
    "09/418,640 15.10.1999 US\n",
    "```\n",
    "Most times, however, I get a `NoSuchElementException` from Selenium."
   ]
  },
  {
   "cell_type": "code",
   "execution_count": 7,
   "metadata": {
    "scrolled": false
   },
   "outputs": [
    {
     "name": "stdout",
     "output_type": "stream",
     "text": [
      "Message: no such element: Unable to locate element: {\"method\":\"css selector\",\"selector\":\"[id=\"detailMainForm:pctBiblio:j_idt3405\"]\"}\n",
      "  (Session info: headless chrome=87.0.4280.88)\n",
      "\n",
      "The request is invalid, or there is no biblio data\n"
     ]
    }
   ],
   "source": [
    "search_id = \"detailMainForm:pctBiblio:j_idt3405\"\n",
    "\n",
    "try:\n",
    "    mydata = driver.find_element_by_id(search_id)\n",
    "    print(mydata.text)\n",
    "except NoSuchElementException as e:\n",
    "    print(e)\n",
    "    print(\"The request is invalid, or there is no biblio data\")"
   ]
  },
  {
   "cell_type": "markdown",
   "metadata": {},
   "source": [
    "## When finished, exit the browser session."
   ]
  },
  {
   "cell_type": "code",
   "execution_count": 8,
   "metadata": {},
   "outputs": [],
   "source": [
    "driver.quit()"
   ]
  }
 ],
 "metadata": {
  "kernelspec": {
   "display_name": "Python 3",
   "language": "python",
   "name": "python3"
  },
  "language_info": {
   "codemirror_mode": {
    "name": "ipython",
    "version": 3
   },
   "file_extension": ".py",
   "mimetype": "text/x-python",
   "name": "python",
   "nbconvert_exporter": "python",
   "pygments_lexer": "ipython3",
   "version": "3.6.12"
  }
 },
 "nbformat": 4,
 "nbformat_minor": 4
}
